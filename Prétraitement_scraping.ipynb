{
 "cells": [
  {
   "cell_type": "markdown",
   "id": "e4f30331-6eb3-443b-bfb5-c40bb782bfa6",
   "metadata": {},
   "source": [
    "# Prétraitement des données de Vie-publique"
   ]
  },
  {
   "cell_type": "markdown",
   "id": "23d4c735-38c9-486d-9b89-4bfd79080282",
   "metadata": {},
   "source": [
    "### Importation des librairies"
   ]
  },
  {
   "cell_type": "code",
   "execution_count": 1,
   "id": "31a68ba3-23b5-4c1f-bdd9-c16576e4eadd",
   "metadata": {},
   "outputs": [],
   "source": [
    "import pandas as pd\n",
    "import locale\n",
    "import re "
   ]
  },
  {
   "cell_type": "markdown",
   "id": "39fb6d13-6325-45c4-9d7f-90006442a7fc",
   "metadata": {},
   "source": [
    "### Importation des csv en df"
   ]
  },
  {
   "cell_type": "code",
   "execution_count": 2,
   "id": "9d9da796-2398-43cc-9db4-9dca77ea1b9e",
   "metadata": {},
   "outputs": [],
   "source": [
    "scraping_df1 = pd.read_csv('Viepublique1.csv')"
   ]
  },
  {
   "cell_type": "code",
   "execution_count": 3,
   "id": "6969c1e6-ce11-49fa-bfaf-0d107e12b8be",
   "metadata": {},
   "outputs": [],
   "source": [
    "scraping_df2 = pd.read_csv('Viepublique2.csv')"
   ]
  },
  {
   "cell_type": "code",
   "execution_count": 4,
   "id": "a95621b3-f76c-4159-8f12-21f7364f475b",
   "metadata": {},
   "outputs": [],
   "source": [
    "scraping_df3 = pd.read_csv('Viepublique3.csv')"
   ]
  },
  {
   "cell_type": "code",
   "execution_count": 5,
   "id": "974a8493-0703-4289-9603-02112a409483",
   "metadata": {},
   "outputs": [],
   "source": [
    "scraping_df4 = pd.read_csv('Viepublique4.csv')"
   ]
  },
  {
   "cell_type": "code",
   "execution_count": 6,
   "id": "93a94b6c-e2dc-4a3d-9a15-ed480e9c9eaf",
   "metadata": {},
   "outputs": [],
   "source": [
    "scraping_df5 = pd.read_csv('Viepublique5.csv')"
   ]
  },
  {
   "cell_type": "markdown",
   "id": "d938d59b-71a2-400c-815a-48fcda679c78",
   "metadata": {},
   "source": [
    "### Concaténation des csv"
   ]
  },
  {
   "cell_type": "code",
   "execution_count": 7,
   "id": "0533b364-2b83-4db6-8c9a-872828d34b07",
   "metadata": {},
   "outputs": [],
   "source": [
    "df_merged = pd.concat([scraping_df1, scraping_df2, scraping_df3, scraping_df4, scraping_df5], ignore_index=True, sort=False)"
   ]
  },
  {
   "cell_type": "markdown",
   "id": "a8e44c14-1a6c-4019-bc53-02caee98e5d8",
   "metadata": {},
   "source": [
    "### Suppression des duplicats"
   ]
  },
  {
   "cell_type": "markdown",
   "id": "6dfa229c-2c84-4d6e-a3b9-8d193b8b21a8",
   "metadata": {},
   "source": [
    "Les duplicats sont causés par la manière de récupérer les données, pas des données en elles-mêmes"
   ]
  },
  {
   "cell_type": "code",
   "execution_count": 8,
   "id": "24e00a91-1793-4329-a854-37117399724b",
   "metadata": {},
   "outputs": [],
   "source": [
    "df_vie_publique = df_merged.drop_duplicates(subset = \"link\")"
   ]
  },
  {
   "cell_type": "code",
   "execution_count": 9,
   "id": "5d38e24e-7c91-4281-8014-1e6c74b1e441",
   "metadata": {},
   "outputs": [
    {
     "data": {
      "text/plain": [
       "np.int64(15700)"
      ]
     },
     "execution_count": 9,
     "metadata": {},
     "output_type": "execute_result"
    }
   ],
   "source": [
    "df_vie_publique['Texte'].isna().sum() #nombre d'interview vides (sans texte)"
   ]
  },
  {
   "cell_type": "markdown",
   "id": "79eb973a-efc1-4aa6-bf8e-777298136c27",
   "metadata": {},
   "source": [
    "### Suppression des interviews vides"
   ]
  },
  {
   "cell_type": "code",
   "execution_count": 10,
   "id": "88537e1e-8332-4b7a-afda-ad3889bc4f44",
   "metadata": {},
   "outputs": [
    {
     "name": "stderr",
     "output_type": "stream",
     "text": [
      "/var/folders/bf/dpp1hl0x74gg20m3v0lh7p_r0000gn/T/ipykernel_960/958617740.py:1: SettingWithCopyWarning: \n",
      "A value is trying to be set on a copy of a slice from a DataFrame\n",
      "\n",
      "See the caveats in the documentation: https://pandas.pydata.org/pandas-docs/stable/user_guide/indexing.html#returning-a-view-versus-a-copy\n",
      "  df_vie_publique.dropna(subset = ['Texte'], inplace=True)\n"
     ]
    }
   ],
   "source": [
    "df_vie_publique.dropna(subset = ['Texte'], inplace=True)"
   ]
  },
  {
   "cell_type": "markdown",
   "id": "21e81240-401d-4f69-a48b-c66030b63999",
   "metadata": {},
   "source": [
    "### Suppression de \"Prononcé le \\n\" dans la colonne Date"
   ]
  },
  {
   "cell_type": "code",
   "execution_count": 11,
   "id": "5f77bd37-d7bb-427e-b92a-6dd1dc413766",
   "metadata": {},
   "outputs": [
    {
     "name": "stderr",
     "output_type": "stream",
     "text": [
      "/var/folders/bf/dpp1hl0x74gg20m3v0lh7p_r0000gn/T/ipykernel_960/3416638251.py:1: SettingWithCopyWarning: \n",
      "A value is trying to be set on a copy of a slice from a DataFrame.\n",
      "Try using .loc[row_indexer,col_indexer] = value instead\n",
      "\n",
      "See the caveats in the documentation: https://pandas.pydata.org/pandas-docs/stable/user_guide/indexing.html#returning-a-view-versus-a-copy\n",
      "  df_vie_publique['Date'] = df_vie_publique['Date'].str.replace('Prononcé le\\n', '', regex=False)\n"
     ]
    }
   ],
   "source": [
    "df_vie_publique['Date'] = df_vie_publique['Date'].str.replace('Prononcé le\\n', '', regex=False)"
   ]
  },
  {
   "cell_type": "markdown",
   "id": "b1ddee11-b344-4404-a79f-befafd63924f",
   "metadata": {},
   "source": [
    "### Conversion des dates en string"
   ]
  },
  {
   "cell_type": "code",
   "execution_count": 12,
   "id": "6fbd2786-60c8-4da5-9d42-67ed8c428099",
   "metadata": {},
   "outputs": [
    {
     "name": "stderr",
     "output_type": "stream",
     "text": [
      "/var/folders/bf/dpp1hl0x74gg20m3v0lh7p_r0000gn/T/ipykernel_960/2626484436.py:1: SettingWithCopyWarning: \n",
      "A value is trying to be set on a copy of a slice from a DataFrame.\n",
      "Try using .loc[row_indexer,col_indexer] = value instead\n",
      "\n",
      "See the caveats in the documentation: https://pandas.pydata.org/pandas-docs/stable/user_guide/indexing.html#returning-a-view-versus-a-copy\n",
      "  df_vie_publique['Date'] = df_vie_publique['Date'].astype(str) # mettre la colonne date en str (car elle est de type objet pour l'instant)\n"
     ]
    }
   ],
   "source": [
    "df_vie_publique['Date'] = df_vie_publique['Date'].astype(str) # mettre la colonne date en str (car elle est de type objet pour l'instant)"
   ]
  },
  {
   "cell_type": "code",
   "execution_count": 13,
   "id": "d105507c-23a2-4779-b6cb-1591e2f77178",
   "metadata": {},
   "outputs": [
    {
     "name": "stderr",
     "output_type": "stream",
     "text": [
      "/var/folders/bf/dpp1hl0x74gg20m3v0lh7p_r0000gn/T/ipykernel_960/3009945388.py:2: SettingWithCopyWarning: \n",
      "A value is trying to be set on a copy of a slice from a DataFrame.\n",
      "Try using .loc[row_indexer,col_indexer] = value instead\n",
      "\n",
      "See the caveats in the documentation: https://pandas.pydata.org/pandas-docs/stable/user_guide/indexing.html#returning-a-view-versus-a-copy\n",
      "  df_vie_publique['Date'] = df_vie_publique['Date'].str.strip()\n"
     ]
    }
   ],
   "source": [
    "# Nettoyer les espaces avant et après les chaînes de caractères\n",
    "df_vie_publique['Date'] = df_vie_publique['Date'].str.strip()"
   ]
  },
  {
   "cell_type": "markdown",
   "id": "302e8368-40bd-4dbd-b16a-245f52d77709",
   "metadata": {},
   "source": [
    "### Remplacer dans les dates \"1er\" par \"1\" car cela empeche la converstion en format \"date\""
   ]
  },
  {
   "cell_type": "code",
   "execution_count": 14,
   "id": "25b041ca-c064-43b8-92bb-2e3405ae5d1f",
   "metadata": {},
   "outputs": [],
   "source": [
    "# le format n'est pas bon pour ces données car il y a \"er\" après le 1 alors qu'il ne faudrait pas\n",
    "# on va donc remplacer chaque \"1er\" qui apparait dans ma colonne date par un \"1\""
   ]
  },
  {
   "cell_type": "code",
   "execution_count": 15,
   "id": "8f68bb35-73f7-4a57-a555-d5112f18be1f",
   "metadata": {},
   "outputs": [
    {
     "name": "stderr",
     "output_type": "stream",
     "text": [
      "/var/folders/bf/dpp1hl0x74gg20m3v0lh7p_r0000gn/T/ipykernel_960/2846919873.py:1: SettingWithCopyWarning: \n",
      "A value is trying to be set on a copy of a slice from a DataFrame.\n",
      "Try using .loc[row_indexer,col_indexer] = value instead\n",
      "\n",
      "See the caveats in the documentation: https://pandas.pydata.org/pandas-docs/stable/user_guide/indexing.html#returning-a-view-versus-a-copy\n",
      "  df_vie_publique['Date'] = df_vie_publique['Date'].str.replace('1er', '1', regex=False)\n"
     ]
    }
   ],
   "source": [
    "df_vie_publique['Date'] = df_vie_publique['Date'].str.replace('1er', '1', regex=False)"
   ]
  },
  {
   "cell_type": "markdown",
   "id": "4007c1b4-c6be-41ee-8451-d5a304f92e4b",
   "metadata": {},
   "source": [
    "### Conversion des dates en un format spécifique pour les dates"
   ]
  },
  {
   "cell_type": "code",
   "execution_count": 16,
   "id": "bbddd83d-c5ae-4174-9115-3a9d1234832e",
   "metadata": {},
   "outputs": [
    {
     "name": "stderr",
     "output_type": "stream",
     "text": [
      "/var/folders/bf/dpp1hl0x74gg20m3v0lh7p_r0000gn/T/ipykernel_960/1772832154.py:2: SettingWithCopyWarning: \n",
      "A value is trying to be set on a copy of a slice from a DataFrame.\n",
      "Try using .loc[row_indexer,col_indexer] = value instead\n",
      "\n",
      "See the caveats in the documentation: https://pandas.pydata.org/pandas-docs/stable/user_guide/indexing.html#returning-a-view-versus-a-copy\n",
      "  df_vie_publique['Date'] = pd.to_datetime(df_vie_publique['Date'], format='%d %B %Y', errors='coerce')\n"
     ]
    }
   ],
   "source": [
    "locale.setlocale(locale.LC_TIME, 'fr_FR.UTF-8') \n",
    "df_vie_publique['Date'] = pd.to_datetime(df_vie_publique['Date'], format='%d %B %Y', errors='coerce')"
   ]
  },
  {
   "cell_type": "markdown",
   "id": "cb0da437-8add-4c69-a02a-be8b156a13bc",
   "metadata": {},
   "source": [
    "### Garder uniquement les textes commençants par \"Texte intégral\""
   ]
  },
  {
   "cell_type": "code",
   "execution_count": 17,
   "id": "cde49393-99e3-45e4-8670-eee5a6585e90",
   "metadata": {},
   "outputs": [],
   "source": [
    "patternDel = \"^Texte intégral.*\"\n",
    "df_filter = df_vie_publique['Texte'].str.contains(patternDel)\n",
    "df_vie_publique = df_vie_publique[df_filter]"
   ]
  },
  {
   "cell_type": "markdown",
   "id": "17b519e9-bdcf-421d-8872-6fe0e015b53f",
   "metadata": {},
   "source": [
    "### Nettoyer la colonne \"intervenants_metiers\""
   ]
  },
  {
   "cell_type": "markdown",
   "id": "f9381376-65ba-42a2-ba4f-1996866a2b5d",
   "metadata": {},
   "source": [
    "Suppression de l'indication du metier car il n'est pas normalisé"
   ]
  },
  {
   "cell_type": "code",
   "execution_count": 27,
   "id": "6e0aaf3d-6cd7-4e61-bebd-2673ea92d1dc",
   "metadata": {},
   "outputs": [],
   "source": [
    "df_vie_publique['intervenants_metiers'] = df_vie_publique['intervenants_metiers'].str.replace(r'\\n.*', '', regex=True)"
   ]
  },
  {
   "cell_type": "code",
   "execution_count": 28,
   "id": "5123e3b9-f08b-440f-b0a8-844a62957899",
   "metadata": {},
   "outputs": [
    {
     "data": {
      "text/plain": [
       "intervenants_metiers\n",
       "François Bayrou        527\n",
       "François Mitterrand    522\n",
       "Hubert Védrine         522\n",
       "Laurent Fabius         483\n",
       "Bernard Kouchner       410\n",
       "                      ... \n",
       "Janos Martonyi           1\n",
       "Monique Vuaillat         1\n",
       "Julia Ficatier           1\n",
       "Robin Cook               1\n",
       "Edith Cresson            1\n",
       "Name: count, Length: 617, dtype: int64"
      ]
     },
     "execution_count": 28,
     "metadata": {},
     "output_type": "execute_result"
    }
   ],
   "source": [
    "# Compter le nombre d'occurrences de chaque nom\n",
    "df_vie_publique['intervenants_metiers'].value_counts()"
   ]
  },
  {
   "cell_type": "markdown",
   "id": "db8db3d2-e2c7-408f-bd21-b4ab871f63b5",
   "metadata": {},
   "source": [
    "### Supprimer \"Texte intégral\" en début de chaque texte"
   ]
  },
  {
   "cell_type": "code",
   "execution_count": 29,
   "id": "9b7a6b00-9f23-4d25-a61e-93472ed6efee",
   "metadata": {},
   "outputs": [],
   "source": [
    "df_vie_publique['Texte'] = df_vie_publique['Texte'].str.replace(r'Texte intégral\\s*\\n\\s*\\n', '', regex=True)"
   ]
  },
  {
   "cell_type": "code",
   "execution_count": 30,
   "id": "124742d3-60f2-4dce-ad24-6efeca1b6c8b",
   "metadata": {},
   "outputs": [],
   "source": [
    "df_vie_publique['Texte'] = df_vie_publique['Texte'].str.replace('Texte intégral\\n          \\n            ', '', regex=False)"
   ]
  },
  {
   "cell_type": "markdown",
   "id": "909c05fd-a5f2-4a33-8998-a6e06fa8dd40",
   "metadata": {},
   "source": [
    "### Nettoyer la colonne \"interviewer_metier\""
   ]
  },
  {
   "cell_type": "markdown",
   "id": "65c1774f-ff6a-492f-95b9-27cb9e29b0d6",
   "metadata": {},
   "source": [
    "Nous souhaitons uniquement garder le nom du journaliste et pas le nom du metier qui lui est associé (qui est presque toujours \"journaliste\")"
   ]
  },
  {
   "cell_type": "code",
   "execution_count": 31,
   "id": "0cadc620-19bc-4119-baaa-cf8aae50edfe",
   "metadata": {},
   "outputs": [],
   "source": [
    "#On enlève tout ce qui est après \\n dans chaque ligne de la colonne \"interviewer_metier\"\n",
    "df_vie_publique['interviewer_metier'] = df_vie_publique['interviewer_metier'].str.replace(r'\\n.*', '', regex=True)"
   ]
  },
  {
   "cell_type": "code",
   "execution_count": 32,
   "id": "b1077d22-1b8c-4943-85a1-d17771cdba4c",
   "metadata": {},
   "outputs": [
    {
     "data": {
      "text/plain": [
       "interviewer_metier\n",
       "Jean-Pierre Elkabbach    953\n",
       "Jean-Jacques Bourdin     787\n",
       "Jean-Michel Aphatie      573\n",
       "Olivier Mazerolle        382\n",
       "Françoise Laborde        379\n",
       "                        ... \n",
       "Bachir Rezzoug             1\n",
       "Peter Scholl-Latour        1\n",
       "Francesco Colombo          1\n",
       "Barack Obama               1\n",
       "Linda Giger                1\n",
       "Name: count, Length: 1886, dtype: int64"
      ]
     },
     "execution_count": 32,
     "metadata": {},
     "output_type": "execute_result"
    }
   ],
   "source": [
    "# compte du nombre d'interviews pas journalistes\n",
    "df_vie_publique['interviewer_metier'].value_counts()"
   ]
  },
  {
   "cell_type": "markdown",
   "id": "9228b141-7b21-4e97-b959-7a365da78875",
   "metadata": {},
   "source": [
    "#### On enlève la partie du texte qui mentionne la source dans la colonne \"Texte\""
   ]
  },
  {
   "cell_type": "code",
   "execution_count": 33,
   "id": "873ca086-fe1e-4c2f-803f-9a5dcbaadeaf",
   "metadata": {},
   "outputs": [],
   "source": [
    "# Suppression du texte après le dernier point suivi de \"Source\"\n",
    "df_vie_publique['Texte'] = df_vie_publique['Texte'].str.replace(r'\\.[^.]*Source.*$', '.', regex=True)"
   ]
  },
  {
   "cell_type": "markdown",
   "id": "15b4901b-1fbc-4a64-88e2-60deb71b20e2",
   "metadata": {},
   "source": [
    "### Suppression des colonnes qui ne nous intéressent pas"
   ]
  },
  {
   "cell_type": "code",
   "execution_count": 35,
   "id": "e690cc58-9a06-4d6d-9cca-85f10df77b42",
   "metadata": {},
   "outputs": [],
   "source": [
    "df_vie_publique = df_vie_publique.drop(['Topic', 'mots_cles'], axis=1)"
   ]
  },
  {
   "cell_type": "markdown",
   "id": "9784dbdf-61ee-442b-a5ef-2e1f72cb6c87",
   "metadata": {},
   "source": [
    "### Convertir le df \"df_vie_publique\" en csv"
   ]
  },
  {
   "cell_type": "code",
   "execution_count": 36,
   "id": "3bdc40fd-4a41-42a7-abbf-72332042e4fc",
   "metadata": {},
   "outputs": [],
   "source": [
    "df_vie_publique.to_csv(\"csv_vie_publique.csv\", encoding= 'utf-8' )"
   ]
  }
 ],
 "metadata": {
  "kernelspec": {
   "display_name": "env_python",
   "language": "python",
   "name": "env_python"
  },
  "language_info": {
   "codemirror_mode": {
    "name": "ipython",
    "version": 3
   },
   "file_extension": ".py",
   "mimetype": "text/x-python",
   "name": "python",
   "nbconvert_exporter": "python",
   "pygments_lexer": "ipython3",
   "version": "3.13.2"
  }
 },
 "nbformat": 4,
 "nbformat_minor": 5
}
